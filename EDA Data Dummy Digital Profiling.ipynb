{
 "cells": [
  {
   "cell_type": "code",
   "execution_count": 1,
   "id": "13ec8f18-6fe7-4652-bfa5-49ffb904baa7",
   "metadata": {
    "tags": []
   },
   "outputs": [],
   "source": [
    "# import library\n",
    "import pandas as pd\n",
    "import numpy as np\n",
    "import seaborn as sns\n",
    "import matplotlib.pyplot as plt"
   ]
  },
  {
   "cell_type": "code",
   "execution_count": 2,
   "id": "1564c049-8b28-40db-9b45-754d36a952b0",
   "metadata": {
    "tags": []
   },
   "outputs": [
    {
     "name": "stdout",
     "output_type": "stream",
     "text": [
      "Requirement already satisfied: faker in c:\\users\\admin\\anaconda3\\lib\\site-packages (37.3.0)\n",
      "Requirement already satisfied: tzdata in c:\\users\\admin\\anaconda3\\lib\\site-packages (from faker) (2023.3)\n"
     ]
    }
   ],
   "source": [
    "!pip install faker"
   ]
  },
  {
   "cell_type": "code",
   "execution_count": 3,
   "id": "93ed5978-b555-4019-bd47-09ebfae0dcb5",
   "metadata": {
    "tags": []
   },
   "outputs": [],
   "source": [
    "import pandas as pd\n",
    "import random\n",
    "from faker import Faker\n",
    "fake = Faker('id_ID')  # Lokal Indonesia\n",
    "\n",
    "# Daftar pilihan untuk beberapa kolom\n",
    "merk_hp = ['Samsung', 'iPhone', 'Xiaomi', 'Oppo', 'Vivo', 'Realme', 'Asus']\n",
    "lokasi_list = ['Jakarta', 'Bandung', 'Surabaya', 'Medan', 'Yogyakarta', 'Semarang']\n",
    "tipe_lokasi = ['Mall', 'Kampus', 'Kantor', 'Stasiun', 'Kafe', 'Perpustakaan']\n",
    "\n",
    "# Simpan hasil di list\n",
    "data = []\n",
    "\n",
    "for _ in range(100):  # Buat 100 data dummy\n",
    "    nama = fake.name()\n",
    "    lokasi = random.choice(lokasi_list)\n",
    "    jam_login = fake.time(pattern=\"%H:%M\")  # format HH:MM\n",
    "    email = fake.email()\n",
    "    no_telepon = fake.phone_number()\n",
    "    tahun_lahir = random.randint(1985, 2007)  # Umur 17-40 tahun\n",
    "    hp = random.choice(merk_hp)\n",
    "    minat_digital = random.randint(1, 100)  # Skor 1-100\n",
    "    tipe = random.choice(tipe_lokasi)\n",
    "\n",
    "    data.append({\n",
    "        'Nama': nama,\n",
    "        'Lokasi': lokasi,\n",
    "        'Jam Login': jam_login,\n",
    "        'Email': email,\n",
    "        'No Telepon': no_telepon,\n",
    "        'Tahun Lahir': tahun_lahir,\n",
    "        'Merk HP': hp,\n",
    "        'Minat Digital': minat_digital,\n",
    "        'Tipe Lokasi': tipe\n",
    "    })\n",
    "\n",
    "# Buat DataFrame\n",
    "df_dummy = pd.DataFrame(data)"
   ]
  },
  {
   "cell_type": "code",
   "execution_count": 4,
   "id": "6165da99-66da-41fb-b2d9-d3865cb31a23",
   "metadata": {
    "tags": []
   },
   "outputs": [
    {
     "data": {
      "text/html": [
       "<div>\n",
       "<style scoped>\n",
       "    .dataframe tbody tr th:only-of-type {\n",
       "        vertical-align: middle;\n",
       "    }\n",
       "\n",
       "    .dataframe tbody tr th {\n",
       "        vertical-align: top;\n",
       "    }\n",
       "\n",
       "    .dataframe thead th {\n",
       "        text-align: right;\n",
       "    }\n",
       "</style>\n",
       "<table border=\"1\" class=\"dataframe\">\n",
       "  <thead>\n",
       "    <tr style=\"text-align: right;\">\n",
       "      <th></th>\n",
       "      <th>Nama</th>\n",
       "      <th>Lokasi</th>\n",
       "      <th>Jam Login</th>\n",
       "      <th>Email</th>\n",
       "      <th>No Telepon</th>\n",
       "      <th>Tahun Lahir</th>\n",
       "      <th>Merk HP</th>\n",
       "      <th>Minat Digital</th>\n",
       "      <th>Tipe Lokasi</th>\n",
       "    </tr>\n",
       "  </thead>\n",
       "  <tbody>\n",
       "    <tr>\n",
       "      <th>0</th>\n",
       "      <td>Danang Gunarto, S.E.I</td>\n",
       "      <td>Yogyakarta</td>\n",
       "      <td>19:48</td>\n",
       "      <td>ktamba@example.net</td>\n",
       "      <td>089 112 5913</td>\n",
       "      <td>2001</td>\n",
       "      <td>Asus</td>\n",
       "      <td>42</td>\n",
       "      <td>Perpustakaan</td>\n",
       "    </tr>\n",
       "    <tr>\n",
       "      <th>1</th>\n",
       "      <td>Widya Nashiruddin</td>\n",
       "      <td>Surabaya</td>\n",
       "      <td>15:06</td>\n",
       "      <td>tpudjiastuti@example.org</td>\n",
       "      <td>(014) 913 2784</td>\n",
       "      <td>1995</td>\n",
       "      <td>Realme</td>\n",
       "      <td>85</td>\n",
       "      <td>Stasiun</td>\n",
       "    </tr>\n",
       "    <tr>\n",
       "      <th>2</th>\n",
       "      <td>R. Cemani Maryadi</td>\n",
       "      <td>Bandung</td>\n",
       "      <td>19:58</td>\n",
       "      <td>pzulaika@example.com</td>\n",
       "      <td>+62-263-603-6578</td>\n",
       "      <td>1996</td>\n",
       "      <td>Xiaomi</td>\n",
       "      <td>45</td>\n",
       "      <td>Kafe</td>\n",
       "    </tr>\n",
       "    <tr>\n",
       "      <th>3</th>\n",
       "      <td>Asirwanda Prabowo</td>\n",
       "      <td>Jakarta</td>\n",
       "      <td>23:00</td>\n",
       "      <td>prabowojulia@example.com</td>\n",
       "      <td>+62 (623) 933-4478</td>\n",
       "      <td>1987</td>\n",
       "      <td>Asus</td>\n",
       "      <td>35</td>\n",
       "      <td>Kantor</td>\n",
       "    </tr>\n",
       "    <tr>\n",
       "      <th>4</th>\n",
       "      <td>Julia Saefullah</td>\n",
       "      <td>Surabaya</td>\n",
       "      <td>10:48</td>\n",
       "      <td>atampubolon@example.org</td>\n",
       "      <td>(023) 683-1701</td>\n",
       "      <td>2007</td>\n",
       "      <td>Vivo</td>\n",
       "      <td>27</td>\n",
       "      <td>Perpustakaan</td>\n",
       "    </tr>\n",
       "  </tbody>\n",
       "</table>\n",
       "</div>"
      ],
      "text/plain": [
       "                    Nama      Lokasi Jam Login                     Email  \\\n",
       "0  Danang Gunarto, S.E.I  Yogyakarta     19:48        ktamba@example.net   \n",
       "1      Widya Nashiruddin    Surabaya     15:06  tpudjiastuti@example.org   \n",
       "2      R. Cemani Maryadi     Bandung     19:58      pzulaika@example.com   \n",
       "3      Asirwanda Prabowo     Jakarta     23:00  prabowojulia@example.com   \n",
       "4        Julia Saefullah    Surabaya     10:48   atampubolon@example.org   \n",
       "\n",
       "           No Telepon  Tahun Lahir Merk HP  Minat Digital   Tipe Lokasi  \n",
       "0        089 112 5913         2001    Asus             42  Perpustakaan  \n",
       "1      (014) 913 2784         1995  Realme             85       Stasiun  \n",
       "2    +62-263-603-6578         1996  Xiaomi             45          Kafe  \n",
       "3  +62 (623) 933-4478         1987    Asus             35        Kantor  \n",
       "4      (023) 683-1701         2007    Vivo             27  Perpustakaan  "
      ]
     },
     "execution_count": 4,
     "metadata": {},
     "output_type": "execute_result"
    }
   ],
   "source": [
    "df_dummy.head()"
   ]
  },
  {
   "cell_type": "code",
   "execution_count": 5,
   "id": "cce9c3ce-71ec-4aaf-b1c6-6924ac37c0c2",
   "metadata": {
    "tags": []
   },
   "outputs": [
    {
     "name": "stdout",
     "output_type": "stream",
     "text": [
      "<class 'pandas.core.frame.DataFrame'>\n",
      "RangeIndex: 100 entries, 0 to 99\n",
      "Data columns (total 9 columns):\n",
      " #   Column         Non-Null Count  Dtype \n",
      "---  ------         --------------  ----- \n",
      " 0   Nama           100 non-null    object\n",
      " 1   Lokasi         100 non-null    object\n",
      " 2   Jam Login      100 non-null    object\n",
      " 3   Email          100 non-null    object\n",
      " 4   No Telepon     100 non-null    object\n",
      " 5   Tahun Lahir    100 non-null    int64 \n",
      " 6   Merk HP        100 non-null    object\n",
      " 7   Minat Digital  100 non-null    int64 \n",
      " 8   Tipe Lokasi    100 non-null    object\n",
      "dtypes: int64(2), object(7)\n",
      "memory usage: 7.2+ KB\n"
     ]
    }
   ],
   "source": [
    "df_dummy.info()"
   ]
  },
  {
   "cell_type": "code",
   "execution_count": 6,
   "id": "1371a708-6204-47cd-a3ec-27f9831ca19a",
   "metadata": {
    "tags": []
   },
   "outputs": [
    {
     "name": "stdout",
     "output_type": "stream",
     "text": [
      "<class 'pandas.core.frame.DataFrame'>\n",
      "RangeIndex: 100 entries, 0 to 99\n",
      "Data columns (total 9 columns):\n",
      " #   Column         Non-Null Count  Dtype         \n",
      "---  ------         --------------  -----         \n",
      " 0   Nama           100 non-null    object        \n",
      " 1   Lokasi         100 non-null    object        \n",
      " 2   Jam Login      100 non-null    datetime64[ns]\n",
      " 3   Email          100 non-null    object        \n",
      " 4   No Telepon     100 non-null    object        \n",
      " 5   Tahun Lahir    100 non-null    int64         \n",
      " 6   Merk HP        100 non-null    object        \n",
      " 7   Minat Digital  100 non-null    int64         \n",
      " 8   Tipe Lokasi    100 non-null    object        \n",
      "dtypes: datetime64[ns](1), int64(2), object(6)\n",
      "memory usage: 7.2+ KB\n"
     ]
    }
   ],
   "source": [
    "import pandas as pd\n",
    "\n",
    "# Mengubah format jam login sebelum konversi\n",
    "# df_dummy['Jam Login'] = df_dummy['Jam Login'].str.replace('.', ':')\n",
    "df_dummy['Jam Login'] = pd.to_datetime(df_dummy['Jam Login'], format='%H:%M')\n",
    "\n",
    "df_dummy.info()"
   ]
  },
  {
   "cell_type": "markdown",
   "id": "891fe3e4-d499-4d8f-b711-f8da874be6d5",
   "metadata": {},
   "source": [
    "# Pengembangan Variabel "
   ]
  },
  {
   "cell_type": "code",
   "execution_count": 7,
   "id": "b878522e-ce82-485d-8379-885e25cb093a",
   "metadata": {
    "tags": []
   },
   "outputs": [
    {
     "data": {
      "text/html": [
       "<div>\n",
       "<style scoped>\n",
       "    .dataframe tbody tr th:only-of-type {\n",
       "        vertical-align: middle;\n",
       "    }\n",
       "\n",
       "    .dataframe tbody tr th {\n",
       "        vertical-align: top;\n",
       "    }\n",
       "\n",
       "    .dataframe thead th {\n",
       "        text-align: right;\n",
       "    }\n",
       "</style>\n",
       "<table border=\"1\" class=\"dataframe\">\n",
       "  <thead>\n",
       "    <tr style=\"text-align: right;\">\n",
       "      <th></th>\n",
       "      <th>Nama</th>\n",
       "      <th>Lokasi</th>\n",
       "      <th>Jam Login</th>\n",
       "      <th>Email</th>\n",
       "      <th>No Telepon</th>\n",
       "      <th>Tahun Lahir</th>\n",
       "      <th>Merk HP</th>\n",
       "      <th>Minat Digital</th>\n",
       "      <th>Tipe Lokasi</th>\n",
       "      <th>Usia</th>\n",
       "      <th>Segmen HP</th>\n",
       "      <th>Periode Login</th>\n",
       "      <th>Minat</th>\n",
       "    </tr>\n",
       "  </thead>\n",
       "  <tbody>\n",
       "    <tr>\n",
       "      <th>0</th>\n",
       "      <td>Danang Gunarto, S.E.I</td>\n",
       "      <td>Yogyakarta</td>\n",
       "      <td>1900-01-01 19:48:00</td>\n",
       "      <td>ktamba@example.net</td>\n",
       "      <td>089 112 5913</td>\n",
       "      <td>2001</td>\n",
       "      <td>Asus</td>\n",
       "      <td>42</td>\n",
       "      <td>Perpustakaan</td>\n",
       "      <td>24</td>\n",
       "      <td>Mid-range</td>\n",
       "      <td>Sore</td>\n",
       "      <td>Low</td>\n",
       "    </tr>\n",
       "    <tr>\n",
       "      <th>1</th>\n",
       "      <td>Widya Nashiruddin</td>\n",
       "      <td>Surabaya</td>\n",
       "      <td>1900-01-01 15:06:00</td>\n",
       "      <td>tpudjiastuti@example.org</td>\n",
       "      <td>(014) 913 2784</td>\n",
       "      <td>1995</td>\n",
       "      <td>Realme</td>\n",
       "      <td>85</td>\n",
       "      <td>Stasiun</td>\n",
       "      <td>30</td>\n",
       "      <td>Mid-range</td>\n",
       "      <td>Siang</td>\n",
       "      <td>High</td>\n",
       "    </tr>\n",
       "    <tr>\n",
       "      <th>2</th>\n",
       "      <td>R. Cemani Maryadi</td>\n",
       "      <td>Bandung</td>\n",
       "      <td>1900-01-01 19:58:00</td>\n",
       "      <td>pzulaika@example.com</td>\n",
       "      <td>+62-263-603-6578</td>\n",
       "      <td>1996</td>\n",
       "      <td>Xiaomi</td>\n",
       "      <td>45</td>\n",
       "      <td>Kafe</td>\n",
       "      <td>29</td>\n",
       "      <td>Mid-range</td>\n",
       "      <td>Sore</td>\n",
       "      <td>Low</td>\n",
       "    </tr>\n",
       "    <tr>\n",
       "      <th>3</th>\n",
       "      <td>Asirwanda Prabowo</td>\n",
       "      <td>Jakarta</td>\n",
       "      <td>1900-01-01 23:00:00</td>\n",
       "      <td>prabowojulia@example.com</td>\n",
       "      <td>+62 (623) 933-4478</td>\n",
       "      <td>1987</td>\n",
       "      <td>Asus</td>\n",
       "      <td>35</td>\n",
       "      <td>Kantor</td>\n",
       "      <td>38</td>\n",
       "      <td>Mid-range</td>\n",
       "      <td>Sore</td>\n",
       "      <td>Low</td>\n",
       "    </tr>\n",
       "    <tr>\n",
       "      <th>4</th>\n",
       "      <td>Julia Saefullah</td>\n",
       "      <td>Surabaya</td>\n",
       "      <td>1900-01-01 10:48:00</td>\n",
       "      <td>atampubolon@example.org</td>\n",
       "      <td>(023) 683-1701</td>\n",
       "      <td>2007</td>\n",
       "      <td>Vivo</td>\n",
       "      <td>27</td>\n",
       "      <td>Perpustakaan</td>\n",
       "      <td>18</td>\n",
       "      <td>Mid-range</td>\n",
       "      <td>Pagi</td>\n",
       "      <td>Low</td>\n",
       "    </tr>\n",
       "  </tbody>\n",
       "</table>\n",
       "</div>"
      ],
      "text/plain": [
       "                    Nama      Lokasi           Jam Login  \\\n",
       "0  Danang Gunarto, S.E.I  Yogyakarta 1900-01-01 19:48:00   \n",
       "1      Widya Nashiruddin    Surabaya 1900-01-01 15:06:00   \n",
       "2      R. Cemani Maryadi     Bandung 1900-01-01 19:58:00   \n",
       "3      Asirwanda Prabowo     Jakarta 1900-01-01 23:00:00   \n",
       "4        Julia Saefullah    Surabaya 1900-01-01 10:48:00   \n",
       "\n",
       "                      Email          No Telepon  Tahun Lahir Merk HP  \\\n",
       "0        ktamba@example.net        089 112 5913         2001    Asus   \n",
       "1  tpudjiastuti@example.org      (014) 913 2784         1995  Realme   \n",
       "2      pzulaika@example.com    +62-263-603-6578         1996  Xiaomi   \n",
       "3  prabowojulia@example.com  +62 (623) 933-4478         1987    Asus   \n",
       "4   atampubolon@example.org      (023) 683-1701         2007    Vivo   \n",
       "\n",
       "   Minat Digital   Tipe Lokasi  Usia  Segmen HP Periode Login Minat  \n",
       "0             42  Perpustakaan    24  Mid-range          Sore   Low  \n",
       "1             85       Stasiun    30  Mid-range         Siang  High  \n",
       "2             45          Kafe    29  Mid-range          Sore   Low  \n",
       "3             35        Kantor    38  Mid-range          Sore   Low  \n",
       "4             27  Perpustakaan    18  Mid-range          Pagi   Low  "
      ]
     },
     "execution_count": 7,
     "metadata": {},
     "output_type": "execute_result"
    }
   ],
   "source": [
    "# Membuat empat variabel baru\n",
    "# 1. Usia\n",
    "df_dummy['Usia'] = 2025 - df_dummy['Tahun Lahir']\n",
    "\n",
    "# 2. Segmen Hp (High-end: iPhone, Mid-end: Samsung, Oppo, Xiaomi, Vivo, Realme) \n",
    "def segmen_hp(row):\n",
    "    if row['Merk HP'] == 'iPhone':\n",
    "        return \"High-end\" \n",
    "    else:\n",
    "        return \"Mid-range\"\n",
    "    \n",
    "df_dummy['Segmen HP'] = df_dummy.apply(segmen_hp, axis=1)\n",
    "\n",
    "# 3. Periode Login (Pagi: 05.00–11.59, Siang: 12.00–15.59, Sore: 16.00–20.00)\n",
    "# Fungsi untuk menentukan periode login\n",
    "def periode_login(row):\n",
    "    jam = row.hour  # Mengambil hanya bagian jam dari datetime\n",
    "    if 5 <= jam < 12:\n",
    "        return \"Pagi\"\n",
    "    elif 12 <= jam < 16:\n",
    "        return \"Siang\"\n",
    "    else:\n",
    "        return \"Sore\"\n",
    "\n",
    "# Menerapkan fungsi ke setiap baris dalam dataframe\n",
    "df_dummy['Periode Login'] = df_dummy['Jam Login'].apply(periode_login)\n",
    "\n",
    "# 4. Minat (Low: 0–59, Medium: 60–79, High: 80–100)\n",
    "# Menggunakan lambda function untuk perhitungan langsung\n",
    "df_dummy['Minat'] = df_dummy['Minat Digital'].apply(lambda x: \"Low\" if x <= 59 else \"Medium\" if x <= 79 else \"High\")\n",
    "df_dummy.head()"
   ]
  },
  {
   "cell_type": "code",
   "execution_count": 8,
   "id": "567224aa-7df7-40f4-b173-cf6072a1d2d2",
   "metadata": {
    "tags": []
   },
   "outputs": [
    {
     "data": {
      "text/html": [
       "<div>\n",
       "<style scoped>\n",
       "    .dataframe tbody tr th:only-of-type {\n",
       "        vertical-align: middle;\n",
       "    }\n",
       "\n",
       "    .dataframe tbody tr th {\n",
       "        vertical-align: top;\n",
       "    }\n",
       "\n",
       "    .dataframe thead th {\n",
       "        text-align: right;\n",
       "    }\n",
       "</style>\n",
       "<table border=\"1\" class=\"dataframe\">\n",
       "  <thead>\n",
       "    <tr style=\"text-align: right;\">\n",
       "      <th></th>\n",
       "      <th>Jam Login</th>\n",
       "      <th>Tahun Lahir</th>\n",
       "      <th>Minat Digital</th>\n",
       "      <th>Usia</th>\n",
       "    </tr>\n",
       "  </thead>\n",
       "  <tbody>\n",
       "    <tr>\n",
       "      <th>count</th>\n",
       "      <td>100</td>\n",
       "      <td>100.000000</td>\n",
       "      <td>100.000000</td>\n",
       "      <td>100.000000</td>\n",
       "    </tr>\n",
       "    <tr>\n",
       "      <th>mean</th>\n",
       "      <td>1900-01-01 11:58:40.800000</td>\n",
       "      <td>1995.710000</td>\n",
       "      <td>47.840000</td>\n",
       "      <td>29.290000</td>\n",
       "    </tr>\n",
       "    <tr>\n",
       "      <th>min</th>\n",
       "      <td>1900-01-01 00:13:00</td>\n",
       "      <td>1985.000000</td>\n",
       "      <td>1.000000</td>\n",
       "      <td>18.000000</td>\n",
       "    </tr>\n",
       "    <tr>\n",
       "      <th>25%</th>\n",
       "      <td>1900-01-01 05:46:00</td>\n",
       "      <td>1991.000000</td>\n",
       "      <td>24.750000</td>\n",
       "      <td>24.000000</td>\n",
       "    </tr>\n",
       "    <tr>\n",
       "      <th>50%</th>\n",
       "      <td>1900-01-01 11:10:00</td>\n",
       "      <td>1996.000000</td>\n",
       "      <td>42.500000</td>\n",
       "      <td>29.000000</td>\n",
       "    </tr>\n",
       "    <tr>\n",
       "      <th>75%</th>\n",
       "      <td>1900-01-01 18:39:45</td>\n",
       "      <td>2001.000000</td>\n",
       "      <td>66.500000</td>\n",
       "      <td>34.000000</td>\n",
       "    </tr>\n",
       "    <tr>\n",
       "      <th>max</th>\n",
       "      <td>1900-01-01 23:58:00</td>\n",
       "      <td>2007.000000</td>\n",
       "      <td>100.000000</td>\n",
       "      <td>40.000000</td>\n",
       "    </tr>\n",
       "    <tr>\n",
       "      <th>std</th>\n",
       "      <td>NaN</td>\n",
       "      <td>6.329816</td>\n",
       "      <td>26.565612</td>\n",
       "      <td>6.329816</td>\n",
       "    </tr>\n",
       "  </tbody>\n",
       "</table>\n",
       "</div>"
      ],
      "text/plain": [
       "                        Jam Login  Tahun Lahir  Minat Digital        Usia\n",
       "count                         100   100.000000     100.000000  100.000000\n",
       "mean   1900-01-01 11:58:40.800000  1995.710000      47.840000   29.290000\n",
       "min           1900-01-01 00:13:00  1985.000000       1.000000   18.000000\n",
       "25%           1900-01-01 05:46:00  1991.000000      24.750000   24.000000\n",
       "50%           1900-01-01 11:10:00  1996.000000      42.500000   29.000000\n",
       "75%           1900-01-01 18:39:45  2001.000000      66.500000   34.000000\n",
       "max           1900-01-01 23:58:00  2007.000000     100.000000   40.000000\n",
       "std                           NaN     6.329816      26.565612    6.329816"
      ]
     },
     "execution_count": 8,
     "metadata": {},
     "output_type": "execute_result"
    }
   ],
   "source": [
    "df = df_dummy.copy()\n",
    "df.describe()"
   ]
  },
  {
   "cell_type": "markdown",
   "id": "1446122b-831f-411e-855b-b67189b8da17",
   "metadata": {
    "tags": []
   },
   "source": [
    "# visualisasi data"
   ]
  },
  {
   "cell_type": "code",
   "execution_count": 9,
   "id": "487b186c-37eb-463d-b250-e908ccb888eb",
   "metadata": {
    "tags": []
   },
   "outputs": [
    {
     "name": "stderr",
     "output_type": "stream",
     "text": [
      "C:\\Users\\Admin\\anaconda3\\Lib\\site-packages\\seaborn\\axisgrid.py:118: UserWarning: The figure layout has changed to tight\n",
      "  self._figure.tight_layout(*args, **kwargs)\n"
     ]
    },
    {
     "data": {
      "image/png": "[encoded data removed]",
      "text/plain": [
       "<Figure size 750x750 with 12 Axes>"
      ]
     },
     "metadata": {},
     "output_type": "display_data"
    }
   ],
   "source": [
    "# pairplot, untuk melihat distribusi data secara menyeluruh \n",
    "df_num = df.select_dtypes(include='number')\n",
    "sns.pairplot(df_num)\n",
    "plt.show()"
   ]
  },
  {
   "cell_type": "code",
   "execution_count": 10,
   "id": "794bdeac-8f46-49b6-8b73-27ced408bef2",
   "metadata": {
    "tags": []
   },
   "outputs": [
    {
     "name": "stdout",
     "output_type": "stream",
     "text": [
      "95% Confidence Interval: (28.034027256671905, 30.545972743328093)\n"
     ]
    }
   ],
   "source": [
    "import scipy.stats as stats\n",
    "\n",
    "data = df['Usia']\n",
    "mean = np.mean(data)\n",
    "sem = stats.sem(data)\n",
    "ci = stats.t.interval(0.95, len(data)-1, loc=mean, scale=sem)\n",
    "print(f\"95% Confidence Interval: {ci}\")\n"
   ]
  },
  {
   "cell_type": "code",
   "execution_count": 11,
   "id": "c7de7596-0de3-4dfd-949d-16403f173158",
   "metadata": {
    "tags": []
   },
   "outputs": [],
   "source": [
    "df.to_csv('data_final.csv', sep=';')"
   ]
  }
 ],
 "metadata": {
  "kernelspec": {
   "display_name": "Python 3 (ipykernel)",
   "language": "python",
   "name": "python3"
  },
  "language_info": {
   "codemirror_mode": {
    "name": "ipython",
    "version": 3
   },
   "file_extension": ".py",
   "mimetype": "text/x-python",
   "name": "python",
   "nbconvert_exporter": "python",
   "pygments_lexer": "ipython3",
   "version": "3.11.5"
  }
 },
 "nbformat": 4,
 "nbformat_minor": 5
}
